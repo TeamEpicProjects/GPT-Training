{
 "cells": [
  {
   "cell_type": "markdown",
   "id": "4e986715",
   "metadata": {},
   "source": [
    "#### Difference between Prompt Engineering, Model Fine Tuning, and Embeddings based search. \n",
    "\n",
    "- Prompt Engineering: Crafting effective prompts to get the desired output from a language model. The methodology of communication with an AI chatbot to make the best use of its capabilities.\n",
    "\n",
    "\n",
    "- Model Fine Tuning: Fine-tuning in NLP refers to the process of re-training a pre-trained model using custom data for domain adaptation. You are adding or augmenting to the model's existing knowledge base.\n",
    "\n",
    "\n",
    "- Embeddings based search: Providing the model with new data while erasing the model's previous learnings. Drawing boundary conditions such that the model is only able to answer the questions based on the data provided, and saying \"Sorry, I cannot answer that.\" to questions that don't concern the data provided. "
   ]
  },
  {
   "cell_type": "markdown",
   "id": "b4356713",
   "metadata": {},
   "source": [
    "# Embeddings based Question-Answering"
   ]
  },
  {
   "cell_type": "code",
   "execution_count": 2,
   "id": "e49153bb",
   "metadata": {},
   "outputs": [
    {
     "name": "stdout",
     "output_type": "stream",
     "text": [
      "OpenAI API Key:········\n"
     ]
    }
   ],
   "source": [
    "import openai\n",
    "import os\n",
    "import getpass\n",
    "\n",
    "os.environ['OPENAI_API_KEY'] = getpass.getpass('OpenAI API Key:')"
   ]
  },
  {
   "cell_type": "code",
   "execution_count": 4,
   "id": "231cb1ce",
   "metadata": {},
   "outputs": [],
   "source": [
    "# Importing the dataset\n",
    "\n",
    "import pandas as pd\n",
    "\n",
    "df = pd.read_excel('BTS_chapter2.xlsx')"
   ]
  },
  {
   "cell_type": "code",
   "execution_count": 5,
   "id": "7ff8cc34",
   "metadata": {},
   "outputs": [
    {
     "data": {
      "text/html": [
       "<div>\n",
       "<style scoped>\n",
       "    .dataframe tbody tr th:only-of-type {\n",
       "        vertical-align: middle;\n",
       "    }\n",
       "\n",
       "    .dataframe tbody tr th {\n",
       "        vertical-align: top;\n",
       "    }\n",
       "\n",
       "    .dataframe thead th {\n",
       "        text-align: right;\n",
       "    }\n",
       "</style>\n",
       "<table border=\"1\" class=\"dataframe\">\n",
       "  <thead>\n",
       "    <tr style=\"text-align: right;\">\n",
       "      <th></th>\n",
       "      <th>text</th>\n",
       "    </tr>\n",
       "  </thead>\n",
       "  <tbody>\n",
       "    <tr>\n",
       "      <th>0</th>\n",
       "      <td>Subject: Proof Album by BTS. Proof is the firs...</td>\n",
       "    </tr>\n",
       "    <tr>\n",
       "      <th>1</th>\n",
       "      <td>Subject: \"Jack in the Box\" album by J-hope of ...</td>\n",
       "    </tr>\n",
       "    <tr>\n",
       "      <th>2</th>\n",
       "      <td>Subject: Indigo Album by RM of BTS. Indigo is ...</td>\n",
       "    </tr>\n",
       "    <tr>\n",
       "      <th>3</th>\n",
       "      <td>Subject: Face Album by Jimin of BTS. Face is t...</td>\n",
       "    </tr>\n",
       "    <tr>\n",
       "      <th>4</th>\n",
       "      <td>D-Day is the debut studio album by South Korea...</td>\n",
       "    </tr>\n",
       "  </tbody>\n",
       "</table>\n",
       "</div>"
      ],
      "text/plain": [
       "                                                text\n",
       "0  Subject: Proof Album by BTS. Proof is the firs...\n",
       "1  Subject: \"Jack in the Box\" album by J-hope of ...\n",
       "2  Subject: Indigo Album by RM of BTS. Indigo is ...\n",
       "3  Subject: Face Album by Jimin of BTS. Face is t...\n",
       "4  D-Day is the debut studio album by South Korea..."
      ]
     },
     "execution_count": 5,
     "metadata": {},
     "output_type": "execute_result"
    }
   ],
   "source": [
    "df.head()"
   ]
  },
  {
   "cell_type": "code",
   "execution_count": 26,
   "id": "d9ce9ccf",
   "metadata": {},
   "outputs": [],
   "source": [
    "#df['Number of tracks'] = df['Number of tracks'].astype(str)"
   ]
  },
  {
   "cell_type": "code",
   "execution_count": 27,
   "id": "19257363",
   "metadata": {},
   "outputs": [],
   "source": [
    "#df['text'] = \"Album Name: \" + df['Album Name'] + \"; Artist: \" + df['Artist'] + \"; Release Date: \" + df[\"Release Date\"] + \"; Language: \" + df['Language'] + \"; Number of tracks: \" + df['Number of tracks'] + \"; Length: \" + df[\"Length\"] + \"; Overview: \" + df['Overview'] + \"; List of song names: \" + df['List of song names']"
   ]
  },
  {
   "cell_type": "code",
   "execution_count": 8,
   "id": "bb5eb1b3",
   "metadata": {},
   "outputs": [
    {
     "data": {
      "text/html": [
       "<div>\n",
       "<style scoped>\n",
       "    .dataframe tbody tr th:only-of-type {\n",
       "        vertical-align: middle;\n",
       "    }\n",
       "\n",
       "    .dataframe tbody tr th {\n",
       "        vertical-align: top;\n",
       "    }\n",
       "\n",
       "    .dataframe thead th {\n",
       "        text-align: right;\n",
       "    }\n",
       "</style>\n",
       "<table border=\"1\" class=\"dataframe\">\n",
       "  <thead>\n",
       "    <tr style=\"text-align: right;\">\n",
       "      <th></th>\n",
       "      <th>text</th>\n",
       "      <th>embedding</th>\n",
       "    </tr>\n",
       "  </thead>\n",
       "  <tbody>\n",
       "    <tr>\n",
       "      <th>0</th>\n",
       "      <td>Subject: Proof Album by BTS. Proof is the firs...</td>\n",
       "      <td>[-0.028880411759018898, -0.03018958680331707, ...</td>\n",
       "    </tr>\n",
       "    <tr>\n",
       "      <th>1</th>\n",
       "      <td>Subject: \"Jack in the Box\" album by J-hope of ...</td>\n",
       "      <td>[-0.024111641570925713, -0.04682282730937004, ...</td>\n",
       "    </tr>\n",
       "    <tr>\n",
       "      <th>2</th>\n",
       "      <td>Subject: Indigo Album by RM of BTS. Indigo is ...</td>\n",
       "      <td>[-0.008107353933155537, -0.024580668658018112,...</td>\n",
       "    </tr>\n",
       "    <tr>\n",
       "      <th>3</th>\n",
       "      <td>Subject: Face Album by Jimin of BTS. Face is t...</td>\n",
       "      <td>[-0.04436878114938736, -0.012539854273200035, ...</td>\n",
       "    </tr>\n",
       "    <tr>\n",
       "      <th>4</th>\n",
       "      <td>D-Day is the debut studio album by South Korea...</td>\n",
       "      <td>[-0.029493065550923347, -0.013064444065093994,...</td>\n",
       "    </tr>\n",
       "  </tbody>\n",
       "</table>\n",
       "</div>"
      ],
      "text/plain": [
       "                                                text  \\\n",
       "0  Subject: Proof Album by BTS. Proof is the firs...   \n",
       "1  Subject: \"Jack in the Box\" album by J-hope of ...   \n",
       "2  Subject: Indigo Album by RM of BTS. Indigo is ...   \n",
       "3  Subject: Face Album by Jimin of BTS. Face is t...   \n",
       "4  D-Day is the debut studio album by South Korea...   \n",
       "\n",
       "                                           embedding  \n",
       "0  [-0.028880411759018898, -0.03018958680331707, ...  \n",
       "1  [-0.024111641570925713, -0.04682282730937004, ...  \n",
       "2  [-0.008107353933155537, -0.024580668658018112,...  \n",
       "3  [-0.04436878114938736, -0.012539854273200035, ...  \n",
       "4  [-0.029493065550923347, -0.013064444065093994,...  "
      ]
     },
     "execution_count": 8,
     "metadata": {},
     "output_type": "execute_result"
    }
   ],
   "source": [
    "from openai.embeddings_utils import get_embedding\n",
    "df['embedding'] = df.text.apply(lambda x: get_embedding(x, engine=f'text-embedding-ada-002'))\n",
    "df.head()"
   ]
  },
  {
   "cell_type": "code",
   "execution_count": 9,
   "id": "f8402b30",
   "metadata": {},
   "outputs": [],
   "source": [
    "#df.drop(['Album Name', 'Artist', 'Language', 'Release Date', 'Number of tracks', 'Length', 'Overview', 'List of song names'], axis=1, inplace=True)\n",
    "\n",
    "#df.head()"
   ]
  },
  {
   "cell_type": "code",
   "execution_count": 10,
   "id": "d8587c3b",
   "metadata": {},
   "outputs": [],
   "source": [
    "EMBEDDING_MODEL = \"text-embedding-ada-002\"\n",
    "GPT_MODEL = \"gpt-3.5-turbo\""
   ]
  },
  {
   "cell_type": "code",
   "execution_count": 11,
   "id": "0cefc1de",
   "metadata": {},
   "outputs": [],
   "source": [
    "import ast  # for converting embeddings saved as strings back to arrays\n",
    "import openai  # for calling the OpenAI API\n",
    "import pandas as pd  # for storing text and embeddings data\n",
    "import tiktoken  # for counting tokens\n",
    "from scipy import spatial  # for calculating vector similarities for search\n"
   ]
  },
  {
   "cell_type": "code",
   "execution_count": 12,
   "id": "ace42595",
   "metadata": {},
   "outputs": [],
   "source": [
    "# search function\n",
    "\n",
    "\n",
    "def strings_ranked_by_relatedness(\n",
    "    query: str,\n",
    "    df: pd.DataFrame,\n",
    "    relatedness_fn=lambda x, y: 1 - spatial.distance.cosine(x, y),\n",
    "    top_n: int = 100\n",
    ") -> tuple[list[str], list[float]]:\n",
    "    \"\"\"Returns a list of strings and relatednesses, sorted from most related to least.\"\"\"\n",
    "    query_embedding_response = openai.Embedding.create(\n",
    "        model=EMBEDDING_MODEL,\n",
    "        input=query,\n",
    "    )\n",
    "    query_embedding = query_embedding_response[\"data\"][0][\"embedding\"]\n",
    "    strings_and_relatednesses = [\n",
    "        (row[\"text\"], relatedness_fn(query_embedding, row[\"embedding\"]))\n",
    "        for i, row in df.iterrows()\n",
    "    ]\n",
    "    strings_and_relatednesses.sort(key=lambda x: x[1], reverse=True)\n",
    "    strings, relatednesses = zip(*strings_and_relatednesses)\n",
    "    return strings[:top_n], relatednesses[:top_n]\n",
    "    "
   ]
  },
  {
   "cell_type": "code",
   "execution_count": 13,
   "id": "9d01fc2f",
   "metadata": {},
   "outputs": [
    {
     "name": "stdout",
     "output_type": "stream",
     "text": [
      "relatedness=0.845\n"
     ]
    },
    {
     "data": {
      "text/plain": [
       "'Subject: \"Jack in the Box\" album by J-hope of BTS. Jack in the Box\\xa0is the debut\\xa0studio album\\xa0of South Korean rapper\\xa0J-Hope, released on July 15, 2022, through\\xa0Big Hit Music. It contains 10 tracks, including the lead single, \"More\", which preceded it on July 1, and the follow-up single, \"Arson\", which was released the same day as the album, together with an accompanying music video. A concept album revolving around the story of\\xa0Pandora\\'s box,\\xa0Jack in the Box\\xa0discusses themes of passion, ambition, humanity, insecurity, success, and anxiety about the future. Primarily an\\xa0old-school hip hop\\xa0record, the album features a blend of genres, including\\xa0pop,\\xa0grunge, and\\xa0R&B. Jack in the Box represents J-Hope\\'s \"own musical personality and vision as an artist\" and his \"aspirations to break the mold and grow further\".In an interview for Weverse Magazine published in June 2022, the rapper divulged his desire to showcase a \"different side of me...an extremely dark, raw side\" in his current projects, in contrast to the \"sunny demeanor\" he often displays. He further elaborated that he \"wanted to show I have things I want to say, but I kept feeling like, if I did them in the same style I always have, they wouldn\\'t come across well. If I was going to convey the things I wanted to say, I would have to be darker. It\\'s something I’ve never done before, so I was excited to try something new. I was heavily influenced by what my heart was telling me, and that\\'s why I decided to give it a try. A concept album based on the Greek tale of Pandora\\'s box, Jack in the Box opens with \"Intro\", a female-narrated reading of the story from which J-Hope\\'s stagename is derived. The existential \"Pandora\\'s Box\", about the rapper\\'s life as an idol, follows next. In it, he speaks about \"serving others over himself\"—the song\\'s lyrics, \"Someone\\'s light, someone\\'s smile/ Someone\\'s hope, my activities are someone\\'s life\", \"highlight the weight of his responsibility to his fans\"—and questions his own perspectives. The third track \"More\" is about J-Hope\\'s \"passion, bold ambition, and greed\" to \"show the world how much he has grown\", taking risks, and \"a certain vital recklessness.\" A 90s-inspired, \"swag-filled\" song with a \"grungy rock \\'n roll vibe\" that features a \"darker, edgier sound\" in comparison to his previous releases, the track is a fusion of old-school hip hop and arena/alt-rock. It showcases the rapper\\'s \"unique rhythmic flow\" and utilizes \"scream-singing\". The tenth track \"Arson\", is an introspective about him \"encountering \\'the world outside the box\" while stuck at a crossroads and deciding which path to take next. Described in a press release as one of the main songs—together with \"More\"—that conveys the core message of Jack in the Box, it serves as the album\\'s closing track. Number of tracks: 10. List of song names in the album: Intro, Pandora\\'s Box, More, Stop, Equal Sign, Music Box: Reflection, Safety Zone, What if, Future, Arson. Languages: English, Korean.'"
      ]
     },
     "metadata": {},
     "output_type": "display_data"
    }
   ],
   "source": [
    "# examples\n",
    "strings, relatednesses = strings_ranked_by_relatedness(\"Jack in the Box\", df, top_n=1)\n",
    "for string, relatedness in zip(strings, relatednesses):\n",
    "    print(f\"{relatedness=:.3f}\")\n",
    "    display(string)"
   ]
  },
  {
   "cell_type": "code",
   "execution_count": 14,
   "id": "57d58f6f",
   "metadata": {},
   "outputs": [],
   "source": [
    "def num_tokens(text: str, model: str = GPT_MODEL) -> int:\n",
    "    \"\"\"Return the number of tokens in a string.\"\"\"\n",
    "    encoding = tiktoken.encoding_for_model(model)\n",
    "    return len(encoding.encode(text))\n",
    "\n",
    "\n",
    "def query_message(\n",
    "    query: str,\n",
    "    df: pd.DataFrame,\n",
    "    model: str,\n",
    "    token_budget: int\n",
    ") -> str:\n",
    "    \"\"\"Return a message for GPT, with relevant source texts pulled from a dataframe.\"\"\"\n",
    "    strings, relatednesses = strings_ranked_by_relatedness(query, df)\n",
    "    introduction = 'Use the below descriptions of BTS chapter 2 projects to answer the subsequent question. If the answer cannot be found in the description, write \"I could not find an answer. I specialise in Chapter 2 of BTS and not on the topic you asked about.\"'\n",
    "    question = f\"\\n\\nQuestion: {query}\"\n",
    "    message = introduction\n",
    "    for string in strings:\n",
    "        next_album = f'\\n\\nBTS Chapter 2 project description:\\n\"\"\"\\n{string}\\n\"\"\"'\n",
    "        if (\n",
    "            num_tokens(message + next_album + question, model=model)\n",
    "            > token_budget\n",
    "        ):\n",
    "            break\n",
    "        else:\n",
    "            message += next_album\n",
    "    return message + question\n",
    "\n",
    "\n",
    "def ask(\n",
    "    query: str,\n",
    "    df: pd.DataFrame = df,\n",
    "    model: str = GPT_MODEL,\n",
    "    token_budget: int = 4096 - 500,\n",
    "    print_message: bool = False,\n",
    ") -> str:\n",
    "    \"\"\"Answers a query using GPT and a dataframe of relevant texts and embeddings.\"\"\"\n",
    "    message = query_message(query, df, model=model, token_budget=token_budget)\n",
    "    if print_message:\n",
    "        print(message)\n",
    "    messages = [\n",
    "        {\"role\": \"system\", \"content\": \"You answer questions about BTS Chapter 2 projects.\"},\n",
    "        {\"role\": \"user\", \"content\": message},\n",
    "    ]\n",
    "    response = openai.ChatCompletion.create(\n",
    "        model=model,\n",
    "        messages=messages,\n",
    "        temperature=0\n",
    "    )\n",
    "    response_message = response[\"choices\"][0][\"message\"][\"content\"]\n",
    "    return response_message"
   ]
  },
  {
   "cell_type": "markdown",
   "id": "72bd9e34",
   "metadata": {},
   "source": [
    "#### Now that the gpt model has been trained on custom data, let us test it by asking it questions based on the data."
   ]
  },
  {
   "cell_type": "code",
   "execution_count": 15,
   "id": "4d06f4f4",
   "metadata": {},
   "outputs": [
    {
     "data": {
      "text/plain": [
       "'J-hope released his latest album, \"Jack in the Box\", on July 15, 2022.'"
      ]
     },
     "execution_count": 15,
     "metadata": {},
     "output_type": "execute_result"
    }
   ],
   "source": [
    "ask(\"When did J-hope release his latest album?\")"
   ]
  },
  {
   "cell_type": "code",
   "execution_count": 16,
   "id": "0c93ca00",
   "metadata": {},
   "outputs": [
    {
     "data": {
      "text/plain": [
       "'The theme of the album D-Day by Agust D is liberation and freedom, as well as reflecting on the meaning of both and encouraging listeners to focus on themselves instead of dwelling on the past or fearing the future. The album also features thought-provoking social commentary and personal reflections.'"
      ]
     },
     "execution_count": 16,
     "metadata": {},
     "output_type": "execute_result"
    }
   ],
   "source": [
    "ask(\"What is the theme of the album D-Day by Agust D?\")"
   ]
  },
  {
   "cell_type": "code",
   "execution_count": 17,
   "id": "2dbd23db",
   "metadata": {},
   "outputs": [
    {
     "data": {
      "text/plain": [
       "'\"Haegeum\" is the second single from Agust D\\'s D-Day album. It is a heavy hip hop song that features a South Korean traditional two-stringed fiddle called haegeum in its instrumentation. The track is about advocating for freedom in a reality built on unspoken societal expectations and restrictions echoed in today\\'s online culture. Agust D asks listeners to question their own liberation and the role they play in that of others, making a case for \"doing away \\'with the nonsense\\' that clutters online\" and reality.'"
      ]
     },
     "execution_count": 17,
     "metadata": {},
     "output_type": "execute_result"
    }
   ],
   "source": [
    "ask(\"Tell me about the song Hageum from D-Day album.\")"
   ]
  },
  {
   "cell_type": "code",
   "execution_count": 59,
   "id": "36b83686",
   "metadata": {},
   "outputs": [
    {
     "data": {
      "text/plain": [
       "'The Face album by Jimin of BTS was heavily inspired by the emotional impact of the COVID-19 pandemic on Jimin as a person and performer and addresses \"themes of loneliness, wrestling with oneself, and finding freedom\".'"
      ]
     },
     "execution_count": 59,
     "metadata": {},
     "output_type": "execute_result"
    }
   ],
   "source": [
    "ask(\"What inspired the lyrics of the Face album?\")"
   ]
  },
  {
   "cell_type": "code",
   "execution_count": 17,
   "id": "0ebbda26",
   "metadata": {},
   "outputs": [
    {
     "data": {
      "text/plain": [
       "\"The theme of the song The Astronaut by Jin of BTS is about his affection for and relationship with his fans. It explores themes of connection and love through the use of a recurring cosmic motif favored by both the band and singer, as evidenced in other songs they have written. The song's title, The Astronaut, refers to the accompanying music video that portrays the singer as an alien astronaut who accidentally crash-lands on Earth and must eventually choose between staying with his found family or returning to his home planet.\""
      ]
     },
     "execution_count": 17,
     "metadata": {},
     "output_type": "execute_result"
    }
   ],
   "source": [
    "ask(\"Tell me about the theme of song The Astronaut. Why is it named that way? \")"
   ]
  },
  {
   "cell_type": "code",
   "execution_count": 20,
   "id": "47e61eee",
   "metadata": {},
   "outputs": [
    {
     "data": {
      "text/plain": [
       "'Indigo is the debut studio album by RM of BTS, released on December 2, 2022, through Big Hit Music. The album comprises 10 tracks, including a collaboration with Youjeen of Cherry Filter, and features appearances by Erykah Badu, Anderson .Paak, Tablo of Epik High, Kim Sa-wol, Paul Blanco, Mahalia, Colde, and Park Ji-yoon. The album peaked at number two in South Korea, number three in Lithuania, Portugal, and the United States, and number four in Japan. It was certified double platinum by the Korea Music Content Association and has sold over 700,000 copies domestically. The album recounts \"stories and experiences [RM] has gone through, like a diary\" and serves as a documentation or archive of his late twenties. The album\\'s lead single, \"Wild Flower\", was released alongside the album on December 2, 2022, and its music video premiered on YouTube. The album\\'s theme is the colors of nature, human, etc., and it is a documentation of RM\\'s youth in the moment of independent phase. The painting Blue, by the late Korean artist Yun Hyong-keun, featured in some of the photos. RM has said that with Indigo he created a collaboration that \"transcends boundaries\" between music and art.'"
      ]
     },
     "execution_count": 20,
     "metadata": {},
     "output_type": "execute_result"
    }
   ],
   "source": [
    "ask(\"Summarize everything about the album Indigo.\")"
   ]
  },
  {
   "cell_type": "code",
   "execution_count": 23,
   "id": "26c9f38c",
   "metadata": {},
   "outputs": [
    {
     "data": {
      "text/plain": [
       "'J-hope released the song \"On the Street\" as a \"meaningful gift\" to his fans before he begins his mandatory military service. The song is an ode to J-Hope\\'s artistic roots and the intersection of his love for street dance and hip hop.'"
      ]
     },
     "execution_count": 23,
     "metadata": {},
     "output_type": "execute_result"
    }
   ],
   "source": [
    "ask(\"Why did J-hope release the song On the Street?\")"
   ]
  },
  {
   "cell_type": "code",
   "execution_count": 24,
   "id": "a421af2d",
   "metadata": {},
   "outputs": [
    {
     "data": {
      "text/plain": [
       "'J Cole is an American rapper who collaborated with J-Hope of BTS on the song \"On the Street\".'"
      ]
     },
     "execution_count": 24,
     "metadata": {},
     "output_type": "execute_result"
    }
   ],
   "source": [
    "ask(\"Who is J Cole?\")"
   ]
  },
  {
   "cell_type": "code",
   "execution_count": 26,
   "id": "0897c938",
   "metadata": {},
   "outputs": [
    {
     "data": {
      "text/plain": [
       "'Yes, Run BTS is a song included in the BTS Chapter 2 project Proof Album by BTS. It is featured in disc two of the 3-disc project and is described as a hip-hop/rock track.'"
      ]
     },
     "execution_count": 26,
     "metadata": {},
     "output_type": "execute_result"
    }
   ],
   "source": [
    "ask(\"Is Run BTS a song?\")"
   ]
  },
  {
   "cell_type": "code",
   "execution_count": 29,
   "id": "76a134ac",
   "metadata": {},
   "outputs": [
    {
     "data": {
      "text/plain": [
       "'The Indigo album by RM of BTS was inspired by \"stories and experiences [he] has gone through, like a diary.\" and serves as a documentation or archive of his late twenties. It also features the painting Blue, by the late Korean artist Yun Hyong-keun, whom RM is known to be an admirer of. RM has said that with Indigo he created a collaboration that \"transcends boundaries\" between music and art.'"
      ]
     },
     "execution_count": 29,
     "metadata": {},
     "output_type": "execute_result"
    }
   ],
   "source": [
    "ask(\"what inspired the Indigo album?\")"
   ]
  },
  {
   "cell_type": "code",
   "execution_count": 31,
   "id": "b1cf0f30",
   "metadata": {},
   "outputs": [
    {
     "data": {
      "text/plain": [
       "'The music video of On the Street shows J-Hope walking and dancing through the streets of New York City then in the Bowery subway station while Cole is seen standing and dancing on the rooftop of a city building. J-Hope then enters the Bowery subway station as Cole begins rapping his verses, and dances freestyle on an empty platform. He exits the subway as the song winds down and the visual fades to black. A bonus end-scene shows J-Hope meeting Cole atop the rooftop and the two \"exchanging pleasantries\", reminiscent of the scene from the teaser, before again fading to black.'"
      ]
     },
     "execution_count": 31,
     "metadata": {},
     "output_type": "execute_result"
    }
   ],
   "source": [
    "ask(\"What is the content of the music video of On the Street?\")"
   ]
  },
  {
   "cell_type": "code",
   "execution_count": 35,
   "id": "b93a62a7",
   "metadata": {},
   "outputs": [
    {
     "data": {
      "text/plain": [
       "'The music video of The Astronaut portrays Jin as an alien astronaut who accidentally crash-lands on Earth and must eventually choose between staying with his found family or returning to his home planet. Chris Martin makes a brief cameo in one scene, as a television newscaster who announces the sighting of the light beam. Therefore, the people in the music video are Jin and Chris Martin.'"
      ]
     },
     "execution_count": 35,
     "metadata": {},
     "output_type": "execute_result"
    }
   ],
   "source": [
    "ask(\"Who are the people in the music video of The Astronaut?\")"
   ]
  },
  {
   "cell_type": "code",
   "execution_count": 36,
   "id": "fefc2482",
   "metadata": {},
   "outputs": [
    {
     "data": {
      "text/plain": [
       "'In the music video of the Astronaut, Jin befriends a young girl while on Earth and places his helmet on her head as a farewell before leaving to return to his home planet.'"
      ]
     },
     "execution_count": 36,
     "metadata": {},
     "output_type": "execute_result"
    }
   ],
   "source": [
    "ask(\"What about the child in the music video of the Astronaut?\")"
   ]
  },
  {
   "cell_type": "code",
   "execution_count": 40,
   "id": "13d899a9",
   "metadata": {},
   "outputs": [
    {
     "data": {
      "text/plain": [
       "'Yes, IU has collaborated with Suga on the track \"People Pt. 2\" from Suga\\'s album D-Day.'"
      ]
     },
     "execution_count": 40,
     "metadata": {},
     "output_type": "execute_result"
    }
   ],
   "source": [
    "ask(\"Has IU ever collaborated  with Suga?\")"
   ]
  },
  {
   "cell_type": "code",
   "execution_count": 43,
   "id": "e74df027",
   "metadata": {},
   "outputs": [
    {
     "data": {
      "text/plain": [
       "'Yes, there is a music video for Set Me Free Pt.2 of the Face Album.'"
      ]
     },
     "execution_count": 43,
     "metadata": {},
     "output_type": "execute_result"
    }
   ],
   "source": [
    "ask(\"Is there a music video for Set Me Free Pt.2 of the Face Album?\")"
   ]
  },
  {
   "cell_type": "code",
   "execution_count": 20,
   "id": "161b66e7",
   "metadata": {},
   "outputs": [
    {
     "data": {
      "text/plain": [
       "'I could not find an answer. I specialize in Chapter 2 of BTS and not on the topic you asked about.'"
      ]
     },
     "execution_count": 20,
     "metadata": {},
     "output_type": "execute_result"
    }
   ],
   "source": [
    "ask(\"How to book flight tickets to South Korea?\")"
   ]
  },
  {
   "cell_type": "markdown",
   "id": "7d32cf94",
   "metadata": {},
   "source": [
    "Now the language model can only answer questions related to the data it was trained on. It cannot answer questions based on topics outside of the training data."
   ]
  },
  {
   "cell_type": "code",
   "execution_count": null,
   "id": "4b27d150",
   "metadata": {},
   "outputs": [],
   "source": []
  }
 ],
 "metadata": {
  "kernelspec": {
   "display_name": "Python 3 (ipykernel)",
   "language": "python",
   "name": "python3"
  },
  "language_info": {
   "codemirror_mode": {
    "name": "ipython",
    "version": 3
   },
   "file_extension": ".py",
   "mimetype": "text/x-python",
   "name": "python",
   "nbconvert_exporter": "python",
   "pygments_lexer": "ipython3",
   "version": "3.9.13"
  }
 },
 "nbformat": 4,
 "nbformat_minor": 5
}
