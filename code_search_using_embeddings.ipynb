{
 "cells": [
  {
   "cell_type": "code",
   "execution_count": 9,
   "id": "ca44b502",
   "metadata": {},
   "outputs": [],
   "source": [
    "import os\n",
    "from glob import glob\n",
    "import pandas as pd\n",
    "import openai"
   ]
  },
  {
   "cell_type": "code",
   "execution_count": 10,
   "id": "32b68a70",
   "metadata": {},
   "outputs": [],
   "source": [
    "openai.api_key = \"Enter your OpenAI API Key here\""
   ]
  },
  {
   "cell_type": "code",
   "execution_count": 11,
   "id": "2caf2425",
   "metadata": {},
   "outputs": [],
   "source": [
    "def get_function_name(code):\n",
    "    \"\"\"\n",
    "    Extract function name from a line beginning with \"def \"\n",
    "    \"\"\"\n",
    "    assert code.startswith(\"def \")\n",
    "    return code[len(\"def \"): code.index(\"(\")]"
   ]
  },
  {
   "cell_type": "code",
   "execution_count": 12,
   "id": "ac2a46d2",
   "metadata": {},
   "outputs": [],
   "source": [
    "def get_until_no_space(all_lines, i) -> str:\n",
    "    \"\"\"\n",
    "    Get all lines until a line outside the function definition is found.\n",
    "    \"\"\"\n",
    "    ret = [all_lines[i]]\n",
    "    for j in range(i + 1, i + 10000):\n",
    "        if j < len(all_lines):\n",
    "            if len(all_lines[j]) == 0 or all_lines[j][0] in [\" \", \"\\t\", \")\"]:\n",
    "                ret.append(all_lines[j])\n",
    "            else:\n",
    "                break\n",
    "    return \"\\n\".join(ret)"
   ]
  },
  {
   "cell_type": "code",
   "execution_count": 13,
   "id": "3cde6457",
   "metadata": {},
   "outputs": [],
   "source": [
    "def get_functions(filepath):\n",
    "    \"\"\"\n",
    "    Get all functions in a Python file.\n",
    "    \"\"\"\n",
    "    whole_code = open(filepath, encoding='utf8').read().replace(\"\\r\", \"\\n\")\n",
    "    all_lines = whole_code.split(\"\\n\")\n",
    "    for i, l in enumerate(all_lines):\n",
    "        if l.startswith(\"def \"):\n",
    "            code = get_until_no_space(all_lines, i)\n",
    "            function_name = get_function_name(code)\n",
    "            yield {\"code\": code, \"function_name\": function_name, \"filepath\": filepath}"
   ]
  },
  {
   "cell_type": "code",
   "execution_count": 14,
   "id": "9dee0b1e",
   "metadata": {},
   "outputs": [
    {
     "name": "stdout",
     "output_type": "stream",
     "text": [
      "Total number of py files: 3\n",
      "Total number of functions extracted: 8\n"
     ]
    }
   ],
   "source": [
    "# get user root directory\n",
    "#root_dir = os.path.expanduser(\"~\")\n",
    "# note: for this code to work, the openai-python repo must be downloaded and placed in your root directory\n",
    "\n",
    "# path to code repository directory\n",
    "code_root = \"Enter path of your directory here\"\n",
    "\n",
    "code_files = [y for x in os.walk(code_root) for y in glob(os.path.join(x[0], '*.py'))]\n",
    "print(\"Total number of py files:\", len(code_files))\n",
    "\n",
    "if len(code_files) == 0:\n",
    "    print(\"Double check that you have downloaded the openai-python repo and set the code_root variable correctly.\")\n",
    "\n",
    "all_funcs = []\n",
    "for code_file in code_files:\n",
    "    funcs = list(get_functions(code_file))\n",
    "    for func in funcs:\n",
    "        all_funcs.append(func)\n",
    "\n",
    "print(\"Total number of functions extracted:\", len(all_funcs))"
   ]
  },
  {
   "cell_type": "code",
   "execution_count": 15,
   "id": "f002907a",
   "metadata": {},
   "outputs": [
    {
     "data": {
      "text/html": [
       "<div>\n",
       "<style scoped>\n",
       "    .dataframe tbody tr th:only-of-type {\n",
       "        vertical-align: middle;\n",
       "    }\n",
       "\n",
       "    .dataframe tbody tr th {\n",
       "        vertical-align: top;\n",
       "    }\n",
       "\n",
       "    .dataframe thead th {\n",
       "        text-align: right;\n",
       "    }\n",
       "</style>\n",
       "<table border=\"1\" class=\"dataframe\">\n",
       "  <thead>\n",
       "    <tr style=\"text-align: right;\">\n",
       "      <th></th>\n",
       "      <th>code</th>\n",
       "      <th>function_name</th>\n",
       "      <th>filepath</th>\n",
       "      <th>code_embedding</th>\n",
       "    </tr>\n",
       "  </thead>\n",
       "  <tbody>\n",
       "    <tr>\n",
       "      <th>0</th>\n",
       "      <td>def similarity(result, title):\\n    desc_vecto...</td>\n",
       "      <td>similarity</td>\n",
       "      <td>\\content_app.py</td>\n",
       "      <td>[-0.002190084895119071, 0.014384182170033455, ...</td>\n",
       "    </tr>\n",
       "    <tr>\n",
       "      <th>1</th>\n",
       "      <td>def get_rec(title,sig=sig):\\n    i=indices[tit...</td>\n",
       "      <td>get_rec</td>\n",
       "      <td>\\content_app.py</td>\n",
       "      <td>[-0.016391238197684288, -0.015392252244055271,...</td>\n",
       "    </tr>\n",
       "    <tr>\n",
       "      <th>2</th>\n",
       "      <td>def similarity(result, title):\\n    desc_vecto...</td>\n",
       "      <td>similarity</td>\n",
       "      <td>\\demo.py</td>\n",
       "      <td>[-0.0019446078222244978, 0.015260418877005577,...</td>\n",
       "    </tr>\n",
       "    <tr>\n",
       "      <th>3</th>\n",
       "      <td>def get_rec(title):\\n    i=indices[title]\\n   ...</td>\n",
       "      <td>get_rec</td>\n",
       "      <td>\\demo.py</td>\n",
       "      <td>[-0.01709446869790554, -0.01214296743273735, -...</td>\n",
       "    </tr>\n",
       "    <tr>\n",
       "      <th>4</th>\n",
       "      <td>def hybrid(user_id):\\n    if user_id!=0 or len...</td>\n",
       "      <td>hybrid</td>\n",
       "      <td>\\demo.py</td>\n",
       "      <td>[-0.014618700370192528, -0.00861226487904787, ...</td>\n",
       "    </tr>\n",
       "  </tbody>\n",
       "</table>\n",
       "</div>"
      ],
      "text/plain": [
       "                                                code function_name  \\\n",
       "0  def similarity(result, title):\\n    desc_vecto...    similarity   \n",
       "1  def get_rec(title,sig=sig):\\n    i=indices[tit...       get_rec   \n",
       "2  def similarity(result, title):\\n    desc_vecto...    similarity   \n",
       "3  def get_rec(title):\\n    i=indices[title]\\n   ...       get_rec   \n",
       "4  def hybrid(user_id):\\n    if user_id!=0 or len...        hybrid   \n",
       "\n",
       "          filepath                                     code_embedding  \n",
       "0  \\content_app.py  [-0.002190084895119071, 0.014384182170033455, ...  \n",
       "1  \\content_app.py  [-0.016391238197684288, -0.015392252244055271,...  \n",
       "2         \\demo.py  [-0.0019446078222244978, 0.015260418877005577,...  \n",
       "3         \\demo.py  [-0.01709446869790554, -0.01214296743273735, -...  \n",
       "4         \\demo.py  [-0.014618700370192528, -0.00861226487904787, ...  "
      ]
     },
     "execution_count": 15,
     "metadata": {},
     "output_type": "execute_result"
    }
   ],
   "source": [
    "from openai.embeddings_utils import get_embedding\n",
    "\n",
    "df = pd.DataFrame(all_funcs)\n",
    "df['code_embedding'] = df['code'].apply(lambda x: get_embedding(x, engine='text-embedding-ada-002'))\n",
    "df['filepath'] = df['filepath'].apply(lambda x: x.replace(code_root, \"\"))\n",
    "df.to_csv(\"dataset/code_search_openai-python.csv\", index=False)\n",
    "df.head()"
   ]
  },
  {
   "cell_type": "code",
   "execution_count": 16,
   "id": "ac3fe860",
   "metadata": {},
   "outputs": [
    {
     "name": "stdout",
     "output_type": "stream",
     "text": [
      "\\demo_two.py:get_rec  score=0.688\n",
      "def get_rec(title,sig=sig):\n",
      "    i=indices[title]\n",
      "    x=data.iloc[i]['label']\n",
      "    t=[x]\n",
      "    idx=list(data[data['label'].isin(t)].index)\n",
      "    sig_temp=list(enumerate(sig[i]))\n",
      "\n",
      "----------------------------------------------------------------------\n",
      "\\demo.py:get_rec  score=0.687\n",
      "def get_rec(title):\n",
      "    i=indices[title]\n",
      "    x=data.iloc[i]['label']\n",
      "    t=[x]\n",
      "    idx=list(data[data['label'].isin(t)].index)\n",
      "    sig_temp=list(enumerate(sig[i]))\n",
      "    sig_scores=itemgetter(*idx)(sig_temp)\n",
      "----------------------------------------------------------------------\n",
      "\\content_app.py:get_rec  score=0.687\n",
      "def get_rec(title,sig=sig):\n",
      "    i=indices[title]\n",
      "    x=data.iloc[i]['label']\n",
      "    t=[x]\n",
      "    idx=list(data[data['label'].isin(t)].index)\n",
      "    sig_temp=list(enumerate(sig[i]))\n",
      "\n",
      "----------------------------------------------------------------------\n"
     ]
    }
   ],
   "source": [
    "from openai.embeddings_utils import cosine_similarity\n",
    "\n",
    "def search_functions(df, code_query, n=3, pprint=True, n_lines=7):\n",
    "    embedding = get_embedding(code_query, engine='text-embedding-ada-002')\n",
    "    df['similarities'] = df.code_embedding.apply(lambda x: cosine_similarity(x, embedding))\n",
    "\n",
    "    res = df.sort_values('similarities', ascending=False).head(n)\n",
    "    if pprint:\n",
    "        for r in res.iterrows():\n",
    "            print(r[1].filepath+\":\"+r[1].function_name + \"  score=\" + str(round(r[1].similarities, 3)))\n",
    "            print(\"\\n\".join(r[1].code.split(\"\\n\")[:n_lines]))\n",
    "            print('-'*70)\n",
    "    return res\n",
    "\n",
    "res = search_functions(df, 'Completions API tests', n=3)"
   ]
  },
  {
   "cell_type": "code",
   "execution_count": 18,
   "id": "eb00cdb4",
   "metadata": {},
   "outputs": [
    {
     "name": "stdout",
     "output_type": "stream",
     "text": [
      "\\content_app.py:similarity  score=0.789\n",
      "def similarity(result, title):\n",
      "    desc_vector = tfidf.fit_transform(result['description'].apply(lambda x:x.lower()).apply(lambda x: ' '.join([word for word in x.split() if word not in (stop)])))\n",
      "    similarity_matrix = linear_kernel(desc_vector, desc_vector)\n",
      "    \n",
      "    mapping = pd.Series(result.index, index=result['title'])\n",
      "    product_index = mapping[title]\n",
      "    \n",
      "----------------------------------------------------------------------\n",
      "\\demo_two.py:similarity  score=0.789\n",
      "def similarity(result, title):\n",
      "    desc_vector = tfidf.fit_transform(result['description'].apply(lambda x:x.lower()).apply(lambda x: ' '.join([word for word in x.split() if word not in (stop)])))\n",
      "    similarity_matrix = linear_kernel(desc_vector, desc_vector)\n",
      "    \n",
      "    mapping = pd.Series(result.index, index=result['title'])\n",
      "    product_index = mapping[title]\n",
      "    \n",
      "----------------------------------------------------------------------\n",
      "\\demo.py:similarity  score=0.788\n",
      "def similarity(result, title):\n",
      "    desc_vector = tfidf.fit_transform(result['description'].apply(lambda x:x.lower()).apply(lambda x: ' '.join([word for word in x.split() if word not in (stop)])))\n",
      "    similarity_matrix = linear_kernel(desc_vector, desc_vector)     \n",
      "    mapping = pd.Series(result.index, index=result['title'])\n",
      "    product_index = mapping[title]\n",
      "    similarity_score = list(enumerate(similarity_matrix[product_index]))\n",
      "    similarity_score = sorted(similarity_score, key=lambda x: x[1], reverse=True)\n",
      "----------------------------------------------------------------------\n",
      "\\content_app.py:get_rec  score=0.777\n",
      "def get_rec(title,sig=sig):\n",
      "    i=indices[title]\n",
      "    x=data.iloc[i]['label']\n",
      "    t=[x]\n",
      "    idx=list(data[data['label'].isin(t)].index)\n",
      "    sig_temp=list(enumerate(sig[i]))\n",
      "\n",
      "----------------------------------------------------------------------\n",
      "\\demo_two.py:get_rec  score=0.777\n",
      "def get_rec(title,sig=sig):\n",
      "    i=indices[title]\n",
      "    x=data.iloc[i]['label']\n",
      "    t=[x]\n",
      "    idx=list(data[data['label'].isin(t)].index)\n",
      "    sig_temp=list(enumerate(sig[i]))\n",
      "\n",
      "----------------------------------------------------------------------\n",
      "\\demo.py:get_rec  score=0.77\n",
      "def get_rec(title):\n",
      "    i=indices[title]\n",
      "    x=data.iloc[i]['label']\n",
      "    t=[x]\n",
      "    idx=list(data[data['label'].isin(t)].index)\n",
      "    sig_temp=list(enumerate(sig[i]))\n",
      "    sig_scores=itemgetter(*idx)(sig_temp)\n",
      "----------------------------------------------------------------------\n",
      "\\demo.py:hybrid  score=0.715\n",
      "def hybrid(user_id):\n",
      "    if user_id!=0 or len(user_id)!=0:\n",
      "        with open('user_id_map_pkl.pkl', 'rb') as f:\n",
      "            user_id_map = pickle.load(f)\n",
      "        \n",
      "        with open('nteractions_pkl.pkl', 'rb') as f:\n",
      "            interactions = pickle.load(f)\n",
      "----------------------------------------------------------------------\n"
     ]
    }
   ],
   "source": [
    "res = search_functions(df, 'Similarity Index', n=7)"
   ]
  }
 ],
 "metadata": {
  "kernelspec": {
   "display_name": "Python 3 (ipykernel)",
   "language": "python",
   "name": "python3"
  },
  "language_info": {
   "codemirror_mode": {
    "name": "ipython",
    "version": 3
   },
   "file_extension": ".py",
   "mimetype": "text/x-python",
   "name": "python",
   "nbconvert_exporter": "python",
   "pygments_lexer": "ipython3",
   "version": "3.9.13"
  }
 },
 "nbformat": 4,
 "nbformat_minor": 5
}
