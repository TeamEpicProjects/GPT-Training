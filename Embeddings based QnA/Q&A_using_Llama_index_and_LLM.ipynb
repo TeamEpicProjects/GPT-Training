{
 "cells": [
  {
   "cell_type": "code",
   "execution_count": 7,
   "id": "f5d2e810",
   "metadata": {},
   "outputs": [],
   "source": [
    "import os\n",
    "\n",
    "os.environ['OPENAI_API_KEY'] = \"sk-*****************************\""
   ]
  },
  {
   "cell_type": "code",
   "execution_count": null,
   "id": "4d5472fd",
   "metadata": {},
   "outputs": [],
   "source": [
    "#Working with IPL 2023 Auction dataset from Kaggle"
   ]
  },
  {
   "cell_type": "code",
   "execution_count": 8,
   "id": "b0f4ea8d",
   "metadata": {},
   "outputs": [],
   "source": [
    "from pathlib import Path\n",
    "from llama_index import download_loader\n",
    "\n",
    "SimpleCSVReader = download_loader(\"SimpleCSVReader\")\n",
    "\n",
    "loader = SimpleCSVReader()\n",
    "documents = loader.load_data(file=Path('./IPL@23.csv'))"
   ]
  },
  {
   "cell_type": "code",
   "execution_count": 9,
   "id": "bf9bc938",
   "metadata": {},
   "outputs": [],
   "source": [
    "# Create an index of your documents\n",
    "from llama_index import GPTVectorStoreIndex\n",
    "\n",
    "index = GPTVectorStoreIndex.from_documents(documents)"
   ]
  },
  {
   "cell_type": "code",
   "execution_count": 10,
   "id": "0e1271c3",
   "metadata": {},
   "outputs": [
    {
     "name": "stdout",
     "output_type": "stream",
     "text": [
      "<llama_index.indices.vector_store.base.GPTVectorStoreIndex object at 0x0000022C64B45910>\n"
     ]
    }
   ],
   "source": [
    "print(index)"
   ]
  },
  {
   "cell_type": "code",
   "execution_count": 11,
   "id": "beb12eb5",
   "metadata": {},
   "outputs": [],
   "source": [
    "query_engine = index.as_query_engine()\n",
    "response = query_engine.query(\"Which players were bought for the highest prices in IPL 2023 Auctions?\")"
   ]
  },
  {
   "cell_type": "code",
   "execution_count": 12,
   "id": "683bee9e",
   "metadata": {},
   "outputs": [
    {
     "data": {
      "text/markdown": [
       "\n",
       "Ben Stokes (16.25 Cr), Ravindra Jadeja (16.0 Cr), Deepak Chahar (14.0 Cr), MS Dhoni (12.0 Cr), Moeen Ali (8.0 Cr), Ambati Rayudu (6.75 Cr), and Ruturaj Gaikwad (6.0 Cr)."
      ],
      "text/plain": [
       "<IPython.core.display.Markdown object>"
      ]
     },
     "execution_count": 12,
     "metadata": {},
     "output_type": "execute_result"
    }
   ],
   "source": [
    "import IPython\n",
    "IPython.display.Markdown(response.response)"
   ]
  },
  {
   "cell_type": "code",
   "execution_count": 20,
   "id": "75230f85",
   "metadata": {},
   "outputs": [],
   "source": [
    "from llama_index import LLMPredictor, GPTVectorStoreIndex, PromptHelper\n",
    "from langchain.chat_models import ChatOpenAI\n",
    "\n",
    "# define LLM\n",
    "llm_predictor = LLMPredictor(llm=ChatOpenAI(temperature=0.1, model_name=\"text-davinci-002\"))\n",
    "\n",
    "# define prompt helper\n",
    "# set maximum input size\n",
    "max_input_size = 4096\n",
    "# set number of output tokens\n",
    "num_output = 256\n",
    "# set maximum chunk overlap\n",
    "max_chunk_overlap = 20\n",
    "prompt_helper = PromptHelper(max_input_size, num_output, max_chunk_overlap)\n",
    "\n",
    "custom_LLM_index = GPTVectorStoreIndex.from_documents(\n",
    "    documents, llm_predictor=llm_predictor, prompt_helper=prompt_helper\n",
    ")"
   ]
  },
  {
   "cell_type": "code",
   "execution_count": 22,
   "id": "cdeae98b",
   "metadata": {},
   "outputs": [],
   "source": [
    "query_engine_1 = custom_LLM_index.as_query_engine()\n",
    "response = query_engine_1.query(\"Which players were bought for the highest prices in IPL 2023 Auctions?\")"
   ]
  },
  {
   "cell_type": "code",
   "execution_count": 23,
   "id": "33394145",
   "metadata": {},
   "outputs": [
    {
     "data": {
      "text/markdown": [
       "\n",
       "Ben Stokes (All-Rounder, 16.25 Cr, Chennai Super Kings) and Rishabh Pant (Wicket-Keeper, 16.0 Cr, Delhi Capitals) were bought for the highest prices in IPL 2023 Auctions."
      ],
      "text/plain": [
       "<IPython.core.display.Markdown object>"
      ]
     },
     "execution_count": 23,
     "metadata": {},
     "output_type": "execute_result"
    }
   ],
   "source": [
    "import IPython\n",
    "IPython.display.Markdown(response.response)"
   ]
  },
  {
   "cell_type": "code",
   "execution_count": 24,
   "id": "acc2918e",
   "metadata": {},
   "outputs": [
    {
     "data": {
      "text/markdown": [
       "\n",
       "The players bought for the highest prices in IPL 2018 Auctions were Ben Stokes (All-Rounder, 16.25 Cr, Chennai Super Kings), Rishabh Pant (Wicket-Keeper, 16.0 Cr, Delhi Capitals), Sanju Samson (Wicket-Keeper, 14.0 Cr, Rajasthan Royals), and Deepak Chahar (Bowler, 14.0 Cr, Chennai Super Kings)."
      ],
      "text/plain": [
       "<IPython.core.display.Markdown object>"
      ]
     },
     "execution_count": 24,
     "metadata": {},
     "output_type": "execute_result"
    }
   ],
   "source": [
    "response = query_engine_1.query(\"Which players were bought for the highest prices in IPL 2018 Auctions?\")\n",
    "IPython.display.Markdown(response.response)"
   ]
  },
  {
   "cell_type": "code",
   "execution_count": null,
   "id": "ea4cebf6",
   "metadata": {},
   "outputs": [],
   "source": []
  },
  {
   "cell_type": "code",
   "execution_count": null,
   "id": "89f4f41d",
   "metadata": {},
   "outputs": [],
   "source": []
  }
 ],
 "metadata": {
  "kernelspec": {
   "display_name": "Python 3 (ipykernel)",
   "language": "python",
   "name": "python3"
  },
  "language_info": {
   "codemirror_mode": {
    "name": "ipython",
    "version": 3
   },
   "file_extension": ".py",
   "mimetype": "text/x-python",
   "name": "python",
   "nbconvert_exporter": "python",
   "pygments_lexer": "ipython3",
   "version": "3.9.13"
  }
 },
 "nbformat": 4,
 "nbformat_minor": 5
}
