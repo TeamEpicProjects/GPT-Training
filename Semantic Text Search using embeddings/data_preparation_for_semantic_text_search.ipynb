{
 "cells": [
  {
   "cell_type": "code",
   "execution_count": 1,
   "id": "03bcfdf3",
   "metadata": {},
   "outputs": [],
   "source": [
    "import pandas as pd\n",
    "import numpy as np\n",
    "import json\n",
    "import gzip"
   ]
  },
  {
   "cell_type": "code",
   "execution_count": 2,
   "id": "67db1fda",
   "metadata": {},
   "outputs": [],
   "source": [
    "def parse(path):\n",
    "    g = gzip.open(path, 'rb')\n",
    "    for l in g:\n",
    "        yield json.loads(l.decode('utf-8'))\n",
    "\n",
    "def getDF(path):\n",
    "    i = 0\n",
    "    df = {}\n",
    "    for d in parse(path):\n",
    "        df[i] = d\n",
    "        i += 1\n",
    "    return pd.DataFrame.from_dict(df, orient='index')"
   ]
  },
  {
   "cell_type": "code",
   "execution_count": 3,
   "id": "34a0f471",
   "metadata": {},
   "outputs": [],
   "source": [
    "df=getDF('dataset/meta_Luxury_Beauty.json.gz')"
   ]
  },
  {
   "cell_type": "code",
   "execution_count": 4,
   "id": "b2f775a2",
   "metadata": {},
   "outputs": [],
   "source": [
    "meta=getDF('dataset/Luxury_Beauty.json.gz')"
   ]
  },
  {
   "cell_type": "code",
   "execution_count": 5,
   "id": "e785760e",
   "metadata": {},
   "outputs": [
    {
     "data": {
      "text/plain": [
       "Index(['overall', 'vote', 'verified', 'reviewTime', 'reviewerID', 'asin',\n",
       "       'reviewerName', 'reviewText', 'summary', 'unixReviewTime', 'style',\n",
       "       'image'],\n",
       "      dtype='object')"
      ]
     },
     "execution_count": 5,
     "metadata": {},
     "output_type": "execute_result"
    }
   ],
   "source": [
    "meta.columns"
   ]
  },
  {
   "cell_type": "code",
   "execution_count": 6,
   "id": "6d366f26",
   "metadata": {},
   "outputs": [],
   "source": [
    "columns=['vote', 'reviewerID',\n",
    "       'reviewerName', 'unixReviewTime', 'style',\n",
    "       'image']"
   ]
  },
  {
   "cell_type": "code",
   "execution_count": 7,
   "id": "443bd10f",
   "metadata": {},
   "outputs": [],
   "source": [
    "meta.drop(columns, axis=1, inplace=True)"
   ]
  },
  {
   "cell_type": "code",
   "execution_count": 8,
   "id": "e5a1eb16",
   "metadata": {},
   "outputs": [],
   "source": [
    "meta=meta.reset_index(drop=True)"
   ]
  },
  {
   "cell_type": "code",
   "execution_count": 9,
   "id": "b571e262",
   "metadata": {},
   "outputs": [],
   "source": [
    "meta_index=set(meta['asin'])\n",
    "df_index=set(df['asin'])"
   ]
  },
  {
   "cell_type": "code",
   "execution_count": 10,
   "id": "7c18934d",
   "metadata": {},
   "outputs": [],
   "source": [
    "common=[]\n",
    "\n",
    "for index in meta_index:\n",
    "    if index in df_index:\n",
    "        common.append(index)"
   ]
  },
  {
   "cell_type": "code",
   "execution_count": 11,
   "id": "0f3c29c3",
   "metadata": {},
   "outputs": [
    {
     "data": {
      "text/plain": [
       "12111"
      ]
     },
     "execution_count": 11,
     "metadata": {},
     "output_type": "execute_result"
    }
   ],
   "source": [
    "len(common)"
   ]
  },
  {
   "cell_type": "code",
   "execution_count": 12,
   "id": "cbdec177",
   "metadata": {},
   "outputs": [],
   "source": [
    "meta=meta[meta['asin'].isin(common)]"
   ]
  },
  {
   "cell_type": "code",
   "execution_count": 13,
   "id": "5a8945d7",
   "metadata": {},
   "outputs": [],
   "source": [
    "map_products=pd.Series(df.title.values, index=df.asin.values).to_dict()"
   ]
  },
  {
   "cell_type": "code",
   "execution_count": 14,
   "id": "8752cb54",
   "metadata": {},
   "outputs": [],
   "source": [
    "titles=[]\n",
    "for index in meta.asin.values:\n",
    "    titles.append(map_products[index])"
   ]
  },
  {
   "cell_type": "code",
   "execution_count": 15,
   "id": "ccbf2942",
   "metadata": {},
   "outputs": [],
   "source": [
    "meta['title']=titles"
   ]
  },
  {
   "cell_type": "code",
   "execution_count": 16,
   "id": "466acac5",
   "metadata": {},
   "outputs": [
    {
     "data": {
      "text/html": [
       "<div>\n",
       "<style scoped>\n",
       "    .dataframe tbody tr th:only-of-type {\n",
       "        vertical-align: middle;\n",
       "    }\n",
       "\n",
       "    .dataframe tbody tr th {\n",
       "        vertical-align: top;\n",
       "    }\n",
       "\n",
       "    .dataframe thead th {\n",
       "        text-align: right;\n",
       "    }\n",
       "</style>\n",
       "<table border=\"1\" class=\"dataframe\">\n",
       "  <thead>\n",
       "    <tr style=\"text-align: right;\">\n",
       "      <th></th>\n",
       "      <th>overall</th>\n",
       "      <th>verified</th>\n",
       "      <th>reviewTime</th>\n",
       "      <th>asin</th>\n",
       "      <th>reviewText</th>\n",
       "      <th>summary</th>\n",
       "      <th>title</th>\n",
       "    </tr>\n",
       "  </thead>\n",
       "  <tbody>\n",
       "    <tr>\n",
       "      <th>0</th>\n",
       "      <td>2.0</td>\n",
       "      <td>True</td>\n",
       "      <td>06 15, 2010</td>\n",
       "      <td>B00004U9V2</td>\n",
       "      <td>I bought two of these 8.5 fl oz hand cream, an...</td>\n",
       "      <td>dispensers don't work</td>\n",
       "      <td>Crabtree &amp;amp; Evelyn - Gardener's Ultra-Moist...</td>\n",
       "    </tr>\n",
       "    <tr>\n",
       "      <th>1</th>\n",
       "      <td>5.0</td>\n",
       "      <td>True</td>\n",
       "      <td>01 7, 2010</td>\n",
       "      <td>B00004U9V2</td>\n",
       "      <td>Believe me, over the years I have tried many, ...</td>\n",
       "      <td>Best hand cream ever.</td>\n",
       "      <td>Crabtree &amp;amp; Evelyn - Gardener's Ultra-Moist...</td>\n",
       "    </tr>\n",
       "    <tr>\n",
       "      <th>2</th>\n",
       "      <td>5.0</td>\n",
       "      <td>True</td>\n",
       "      <td>04 18, 2018</td>\n",
       "      <td>B00004U9V2</td>\n",
       "      <td>Great hand lotion</td>\n",
       "      <td>Five Stars</td>\n",
       "      <td>Crabtree &amp;amp; Evelyn - Gardener's Ultra-Moist...</td>\n",
       "    </tr>\n",
       "    <tr>\n",
       "      <th>3</th>\n",
       "      <td>5.0</td>\n",
       "      <td>True</td>\n",
       "      <td>04 18, 2018</td>\n",
       "      <td>B00004U9V2</td>\n",
       "      <td>This is the best for the severely dry skin on ...</td>\n",
       "      <td>Five Stars</td>\n",
       "      <td>Crabtree &amp;amp; Evelyn - Gardener's Ultra-Moist...</td>\n",
       "    </tr>\n",
       "    <tr>\n",
       "      <th>4</th>\n",
       "      <td>5.0</td>\n",
       "      <td>True</td>\n",
       "      <td>04 17, 2018</td>\n",
       "      <td>B00004U9V2</td>\n",
       "      <td>The best non- oily hand cream ever. It heals o...</td>\n",
       "      <td>I always have a backup ready.</td>\n",
       "      <td>Crabtree &amp;amp; Evelyn - Gardener's Ultra-Moist...</td>\n",
       "    </tr>\n",
       "    <tr>\n",
       "      <th>...</th>\n",
       "      <td>...</td>\n",
       "      <td>...</td>\n",
       "      <td>...</td>\n",
       "      <td>...</td>\n",
       "      <td>...</td>\n",
       "      <td>...</td>\n",
       "      <td>...</td>\n",
       "    </tr>\n",
       "    <tr>\n",
       "      <th>574623</th>\n",
       "      <td>5.0</td>\n",
       "      <td>True</td>\n",
       "      <td>03 20, 2017</td>\n",
       "      <td>B01HIQEOLO</td>\n",
       "      <td>Great color and I prefer shellac over gel</td>\n",
       "      <td>Five Stars</td>\n",
       "      <td>CND Shellac, Leather Satchel</td>\n",
       "    </tr>\n",
       "    <tr>\n",
       "      <th>574624</th>\n",
       "      <td>5.0</td>\n",
       "      <td>True</td>\n",
       "      <td>10 26, 2016</td>\n",
       "      <td>B01HIQEOLO</td>\n",
       "      <td>Best shellac I have ever used.  It doesn't tak...</td>\n",
       "      <td>Best shellac I have ever used</td>\n",
       "      <td>CND Shellac, Leather Satchel</td>\n",
       "    </tr>\n",
       "    <tr>\n",
       "      <th>574625</th>\n",
       "      <td>5.0</td>\n",
       "      <td>True</td>\n",
       "      <td>09 30, 2016</td>\n",
       "      <td>B01HIQEOLO</td>\n",
       "      <td>Great polish and beautiful color!!</td>\n",
       "      <td>Great polish!</td>\n",
       "      <td>CND Shellac, Leather Satchel</td>\n",
       "    </tr>\n",
       "    <tr>\n",
       "      <th>574626</th>\n",
       "      <td>1.0</td>\n",
       "      <td>True</td>\n",
       "      <td>12 5, 2016</td>\n",
       "      <td>B01HJ2UY0W</td>\n",
       "      <td>The perfume is good, but the spray head broke ...</td>\n",
       "      <td>Spray head broke off within a month</td>\n",
       "      <td>Juicy Couture I Love Juicy Couture, 1.7 fl. Oz...</td>\n",
       "    </tr>\n",
       "    <tr>\n",
       "      <th>574627</th>\n",
       "      <td>5.0</td>\n",
       "      <td>True</td>\n",
       "      <td>01 14, 2017</td>\n",
       "      <td>B01HJ2UY1G</td>\n",
       "      <td>Great fragrance.</td>\n",
       "      <td>Five Stars</td>\n",
       "      <td>Juicy Couture I Love Juicy Couture, 3.4 fl. Oz...</td>\n",
       "    </tr>\n",
       "  </tbody>\n",
       "</table>\n",
       "<p>574338 rows × 7 columns</p>\n",
       "</div>"
      ],
      "text/plain": [
       "        overall  verified   reviewTime        asin  \\\n",
       "0           2.0      True  06 15, 2010  B00004U9V2   \n",
       "1           5.0      True   01 7, 2010  B00004U9V2   \n",
       "2           5.0      True  04 18, 2018  B00004U9V2   \n",
       "3           5.0      True  04 18, 2018  B00004U9V2   \n",
       "4           5.0      True  04 17, 2018  B00004U9V2   \n",
       "...         ...       ...          ...         ...   \n",
       "574623      5.0      True  03 20, 2017  B01HIQEOLO   \n",
       "574624      5.0      True  10 26, 2016  B01HIQEOLO   \n",
       "574625      5.0      True  09 30, 2016  B01HIQEOLO   \n",
       "574626      1.0      True   12 5, 2016  B01HJ2UY0W   \n",
       "574627      5.0      True  01 14, 2017  B01HJ2UY1G   \n",
       "\n",
       "                                               reviewText  \\\n",
       "0       I bought two of these 8.5 fl oz hand cream, an...   \n",
       "1       Believe me, over the years I have tried many, ...   \n",
       "2                                       Great hand lotion   \n",
       "3       This is the best for the severely dry skin on ...   \n",
       "4       The best non- oily hand cream ever. It heals o...   \n",
       "...                                                   ...   \n",
       "574623          Great color and I prefer shellac over gel   \n",
       "574624  Best shellac I have ever used.  It doesn't tak...   \n",
       "574625                 Great polish and beautiful color!!   \n",
       "574626  The perfume is good, but the spray head broke ...   \n",
       "574627                                   Great fragrance.   \n",
       "\n",
       "                                    summary  \\\n",
       "0                     dispensers don't work   \n",
       "1                     Best hand cream ever.   \n",
       "2                                Five Stars   \n",
       "3                                Five Stars   \n",
       "4             I always have a backup ready.   \n",
       "...                                     ...   \n",
       "574623                           Five Stars   \n",
       "574624        Best shellac I have ever used   \n",
       "574625                        Great polish!   \n",
       "574626  Spray head broke off within a month   \n",
       "574627                           Five Stars   \n",
       "\n",
       "                                                    title  \n",
       "0       Crabtree &amp; Evelyn - Gardener's Ultra-Moist...  \n",
       "1       Crabtree &amp; Evelyn - Gardener's Ultra-Moist...  \n",
       "2       Crabtree &amp; Evelyn - Gardener's Ultra-Moist...  \n",
       "3       Crabtree &amp; Evelyn - Gardener's Ultra-Moist...  \n",
       "4       Crabtree &amp; Evelyn - Gardener's Ultra-Moist...  \n",
       "...                                                   ...  \n",
       "574623                       CND Shellac, Leather Satchel  \n",
       "574624                       CND Shellac, Leather Satchel  \n",
       "574625                       CND Shellac, Leather Satchel  \n",
       "574626  Juicy Couture I Love Juicy Couture, 1.7 fl. Oz...  \n",
       "574627  Juicy Couture I Love Juicy Couture, 3.4 fl. Oz...  \n",
       "\n",
       "[574338 rows x 7 columns]"
      ]
     },
     "execution_count": 16,
     "metadata": {},
     "output_type": "execute_result"
    }
   ],
   "source": [
    "meta"
   ]
  },
  {
   "cell_type": "code",
   "execution_count": 17,
   "id": "d77db777",
   "metadata": {},
   "outputs": [],
   "source": [
    "data=meta[['asin','title','overall','summary','reviewText']]"
   ]
  },
  {
   "cell_type": "code",
   "execution_count": 20,
   "id": "8badcec0",
   "metadata": {},
   "outputs": [],
   "source": [
    "data=data.reset_index(drop=True)"
   ]
  },
  {
   "cell_type": "code",
   "execution_count": 21,
   "id": "d23f5f27",
   "metadata": {},
   "outputs": [],
   "source": [
    "data.to_csv('dataset/data.csv', index=False)"
   ]
  },
  {
   "cell_type": "code",
   "execution_count": null,
   "id": "7182c56a",
   "metadata": {},
   "outputs": [],
   "source": []
  }
 ],
 "metadata": {
  "kernelspec": {
   "display_name": "Python 3 (ipykernel)",
   "language": "python",
   "name": "python3"
  },
  "language_info": {
   "codemirror_mode": {
    "name": "ipython",
    "version": 3
   },
   "file_extension": ".py",
   "mimetype": "text/x-python",
   "name": "python",
   "nbconvert_exporter": "python",
   "pygments_lexer": "ipython3",
   "version": "3.9.13"
  }
 },
 "nbformat": 4,
 "nbformat_minor": 5
}
